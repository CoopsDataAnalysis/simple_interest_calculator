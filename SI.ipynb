{
 "cells": [
  {
   "cell_type": "code",
   "execution_count": 7,
   "id": "1ba68a11-52d8-458b-8ac1-d65b5aa7ab82",
   "metadata": {},
   "outputs": [
    {
     "name": "stdin",
     "output_type": "stream",
     "text": [
      "Enter the principal amount in dollars (P):  1000\n",
      "Enter the annual interest rate (R):  5\n",
      "Enter the time in years (T):  2\n"
     ]
    },
    {
     "name": "stdout",
     "output_type": "stream",
     "text": [
      "Simple Interest =  100.0\n",
      "Therefore, the total is $1100.00\n"
     ]
    }
   ],
   "source": [
    "def simple_interest(P, R, T):\n",
    "    return P * R * T / 100\n",
    "\n",
    "def total_amount(SI,P):\n",
    "    return SI + P\n",
    "\n",
    "def main():\n",
    "    P_str = input(\"Enter the principal amount in dollars (P): \")\n",
    "    P = float(P_str.replace('$', ''))\n",
    "    R = float(input(\"Enter the annual interest rate (R): \"))\n",
    "    T = float(input(\"Enter the time in years (T): \"))\n",
    "\n",
    "    \n",
    "    SI = simple_interest(P, R, T)\n",
    "    print(\"Simple Interest = \", SI)\n",
    "    \n",
    "    total_amt = total_amount(SI,P)\n",
    "    print(\"Therefore, the total is $\" + format(total_amt, '.2f'))\n",
    "\n",
    "if __name__ == \"__main__\":\n",
    "    main() \n",
    "    "
   ]
  },
  {
   "cell_type": "code",
   "execution_count": null,
   "id": "94823d45-a763-44bf-9aca-6291e700fd7e",
   "metadata": {},
   "outputs": [],
   "source": []
  }
 ],
 "metadata": {
  "kernelspec": {
   "display_name": "anaconda-panel-2023.05-py310",
   "language": "python",
   "name": "conda-env-anaconda-panel-2023.05-py310-py"
  },
  "language_info": {
   "codemirror_mode": {
    "name": "ipython",
    "version": 3
   },
   "file_extension": ".py",
   "mimetype": "text/x-python",
   "name": "python",
   "nbconvert_exporter": "python",
   "pygments_lexer": "ipython3",
   "version": "3.11.5"
  }
 },
 "nbformat": 4,
 "nbformat_minor": 5
}
